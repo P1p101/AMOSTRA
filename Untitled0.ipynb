{
  "nbformat": 4,
  "nbformat_minor": 0,
  "metadata": {
    "colab": {
      "provenance": [],
      "authorship_tag": "ABX9TyOFMUaW2REjKxMol5X6Sx2c",
      "include_colab_link": true
    },
    "kernelspec": {
      "name": "python3",
      "display_name": "Python 3"
    },
    "language_info": {
      "name": "python"
    }
  },
  "cells": [
    {
      "cell_type": "markdown",
      "metadata": {
        "id": "view-in-github",
        "colab_type": "text"
      },
      "source": [
        "<a href=\"https://colab.research.google.com/github/P1p101/AMOSTRA/blob/main/Untitled0.ipynb\" target=\"_parent\"><img src=\"https://colab.research.google.com/assets/colab-badge.svg\" alt=\"Open In Colab\"/></a>"
      ]
    },
    {
      "cell_type": "markdown",
      "source": [
        "APS 1 - PIETRA OLIVEIRA, LUCAS FALCO, GUSTAVO BISSON"
      ],
      "metadata": {
        "id": "qHZC40CptMkd"
      }
    },
    {
      "cell_type": "code",
      "execution_count": 15,
      "metadata": {
        "id": "INg-Htu3eikc"
      },
      "outputs": [],
      "source": [
        "from collections import deque"
      ]
    },
    {
      "cell_type": "code",
      "source": [
        "grafo = {\n",
        "    'A': ['B', 'C'],\n",
        "    'B': ['A', 'C', 'D'],\n",
        "    'C': ['B', 'D', 'A'],\n",
        "    'D': ['A','C', 'B'],}"
      ],
      "metadata": {
        "id": "s0QbI5K2nJ9Y"
      },
      "execution_count": 16,
      "outputs": []
    },
    {
      "cell_type": "code",
      "source": [
        "pontos = {'A', 'B', 'C', 'D'}"
      ],
      "metadata": {
        "id": "9-I5KggbnsGP"
      },
      "execution_count": 17,
      "outputs": []
    },
    {
      "cell_type": "code",
      "source": [
        "def bfs(grafo, inicio):\n",
        "  fila = deque([inicio])\n",
        "  visitados = set([inicio]) #conjunto de elementos.visitados\n",
        "  ordem = [] #Marmazenar vizinhos\n",
        "  while fila:\n",
        "    atual = fila.popleft() #remover elemento\n",
        "    ordem.append(atual) #registrar a visita\n",
        "    for v in grafo.get(atual, []):\n",
        "      if v not in visitados:\n",
        "        fila.append(v)\n",
        "        visitados.add(v)\n",
        "  return ordem"
      ],
      "metadata": {
        "id": "cd3RMqh0n1CO"
      },
      "execution_count": 18,
      "outputs": []
    },
    {
      "cell_type": "code",
      "source": [
        "for ponto in pontos:\n",
        "    resultado = bfs(grafo, ponto)\n",
        "    print(\"Ordem BFS:\", resultado)"
      ],
      "metadata": {
        "colab": {
          "base_uri": "https://localhost:8080/"
        },
        "id": "c4HKT9FboaNR",
        "outputId": "6326c834-b45d-4583-88ac-c73bda41ec02"
      },
      "execution_count": 19,
      "outputs": [
        {
          "output_type": "stream",
          "name": "stdout",
          "text": [
            "Ordem BFS: ['D', 'A', 'C', 'B']\n",
            "Ordem BFS: ['A', 'B', 'C', 'D']\n",
            "Ordem BFS: ['B', 'A', 'C', 'D']\n",
            "Ordem BFS: ['C', 'B', 'D', 'A']\n"
          ]
        }
      ]
    },
    {
      "cell_type": "code",
      "source": [
        "from collections import deque"
      ],
      "metadata": {
        "id": "XBkiunIlo3No"
      },
      "execution_count": 25,
      "outputs": []
    },
    {
      "cell_type": "code",
      "source": [
        "grafo = {\n",
        "    'A': ['B', 'C'],\n",
        "    'B': ['C', 'E'],\n",
        "    'C': ['E', 'A'],\n",
        "    'D': ['C','D'],}"
      ],
      "metadata": {
        "id": "PDUF5uN8pvV3"
      },
      "execution_count": 26,
      "outputs": []
    },
    {
      "cell_type": "code",
      "source": [
        "pontos = ['A', 'B', 'C', 'D', 'E']"
      ],
      "metadata": {
        "id": "y7S72r5Go7h4"
      },
      "execution_count": 27,
      "outputs": []
    },
    {
      "cell_type": "code",
      "source": [
        "def bfs(grafo, inicio):\n",
        "  fila = deque([inicio])\n",
        "  visitados = set([inicio]) #conjunto de elementos.visitados\n",
        "  ordem = [] #Marmazenar vizinhos\n",
        "  while fila:\n",
        "    atual = fila.popleft() #remover elemento\n",
        "    ordem.append(atual) #registrar a visita\n",
        "    for v in grafo.get(atual, []):\n",
        "      if v not in visitados:\n",
        "        fila.append(v)\n",
        "        visitados.add(v)\n",
        "  return ordem"
      ],
      "metadata": {
        "id": "VpWx52wjpEL_"
      },
      "execution_count": 28,
      "outputs": []
    },
    {
      "cell_type": "code",
      "source": [
        "for ponto in pontos:\n",
        "    resultado = bfs(grafo, ponto)\n",
        "    print(\"Ordem BFS:\", resultado)"
      ],
      "metadata": {
        "colab": {
          "base_uri": "https://localhost:8080/"
        },
        "id": "-Xuoxd1MpMU9",
        "outputId": "c69d3a7e-7d5b-4123-f3a2-19928efdb49b"
      },
      "execution_count": 29,
      "outputs": [
        {
          "output_type": "stream",
          "name": "stdout",
          "text": [
            "Ordem BFS: ['A', 'B', 'C', 'E']\n",
            "Ordem BFS: ['B', 'C', 'E', 'A']\n",
            "Ordem BFS: ['C', 'E', 'A', 'B']\n",
            "Ordem BFS: ['D', 'C', 'E', 'A', 'B']\n",
            "Ordem BFS: ['E']\n"
          ]
        }
      ]
    },
    {
      "cell_type": "code",
      "source": [
        "from collections import deque"
      ],
      "metadata": {
        "id": "W-Mrs9hMpc2n"
      },
      "execution_count": 30,
      "outputs": []
    },
    {
      "cell_type": "code",
      "source": [
        "grafo = {\n",
        "    'A': ['B', 'C'],\n",
        "    'B': ['A', 'D'],\n",
        "    'C': ['A', 'E'],\n",
        "    'D': ['B','E'],\n",
        "    'E': ['C', 'D'],\n",
        "    'F': ['G'],\n",
        "    'G':['F']\n",
        "\n",
        "    }"
      ],
      "metadata": {
        "id": "wLSyG4s_pjgU"
      },
      "execution_count": 31,
      "outputs": []
    },
    {
      "cell_type": "code",
      "source": [
        "pontos = ['A', 'B', 'C', 'D', 'E', 'F', 'G']"
      ],
      "metadata": {
        "id": "CbXHhO_1rJBW"
      },
      "execution_count": 32,
      "outputs": []
    },
    {
      "cell_type": "code",
      "source": [
        "def bfs(grafo, inicio):\n",
        "  fila = deque([inicio])\n",
        "  visitados = set([inicio]) #conjunto de elementos.visitados\n",
        "  ordem = [] #Marmazenar vizinhos\n",
        "  while fila:\n",
        "    atual = fila.popleft() #remover elemento\n",
        "    ordem.append(atual) #registrar a visita\n",
        "    for v in grafo.get(atual, []):\n",
        "      if v not in visitados:\n",
        "        fila.append(v)\n",
        "        visitados.add(v)\n",
        "  return ordem"
      ],
      "metadata": {
        "id": "2f3Ai5HPrZ0T"
      },
      "execution_count": 33,
      "outputs": []
    },
    {
      "cell_type": "code",
      "source": [
        "for ponto in pontos:\n",
        "    resultado = bfs(grafo, ponto)\n",
        "    print(\"Ordem BFS:\", resultado)"
      ],
      "metadata": {
        "colab": {
          "base_uri": "https://localhost:8080/"
        },
        "id": "DdQQC1D1rbl8",
        "outputId": "6f9a2261-31cd-4dba-c7b6-6b5744dd5178"
      },
      "execution_count": 34,
      "outputs": [
        {
          "output_type": "stream",
          "name": "stdout",
          "text": [
            "Ordem BFS: ['A', 'B', 'C', 'D', 'E']\n",
            "Ordem BFS: ['B', 'A', 'D', 'C', 'E']\n",
            "Ordem BFS: ['C', 'A', 'E', 'B', 'D']\n",
            "Ordem BFS: ['D', 'B', 'E', 'A', 'C']\n",
            "Ordem BFS: ['E', 'C', 'D', 'A', 'B']\n",
            "Ordem BFS: ['F', 'G']\n",
            "Ordem BFS: ['G', 'F']\n"
          ]
        }
      ]
    },
    {
      "cell_type": "code",
      "source": [
        "from collections import deque\n",
        "\n",
        "# Função para busca em largura (BFS)\n",
        "def bfs(grafo, inicio):\n",
        "    fila = deque([inicio])  # Fila para armazenar nós a serem visitados\n",
        "    visitado = set([inicio])  # Conjunto para evitar repetição\n",
        "    ordem = []  # Lista para armazenar a ordem de visitação\n",
        "\n",
        "    while fila:\n",
        "        atual = fila.popleft()\n",
        "        ordem.append(atual)\n",
        "\n",
        "        for v in grafo.get(atual, []):\n",
        "            if v not in visitado:\n",
        "                fila.append(v)\n",
        "                visitado.add(v)\n",
        "    return ordem\n",
        "\n",
        "# Definição do grafo de restaurantes\n",
        "pontos = {\n",
        "    \"Restaurante Mediterraneo\": [\"Restaurante Chinês\", \"Restaurante Thai\", \"Restaurante Brasileiro\", \"Restaurante Italiano\"],\n",
        "    \"Restaurante FastFood\": [\"Restaurante Mediterraneo\", \"Restaurante Brasileiro\", \"Restaurante Mexicano\", \"Restaurante Árabe\"],\n",
        "    \"Restaurante Brasileiro\": [\"Restaurante FastFood\", \"Restaurante Italiano\", \"Restaurante Chinês\", \"Restaurante Árabe\"],\n",
        "    \"Restaurante Thai\": [\"Restaurante Mediterraneo\", \"Restaurante Chinês\", \"Restaurante Árabe\", \"Restaurante Japonês\"],\n",
        "    \"Restaurante Chinês\": [\"Restaurante Mediterraneo\", \"Restaurante Thai\", \"Restaurante Japonês\", \"Restaurante Mexicano\"],\n",
        "    \"Restaurante Italiano\": [\"Restaurante Mediterraneo\", \"Restaurante Japonês\", \"Restaurante Mexicano\", \"Restaurante Brasileiro\"],\n",
        "    \"Restaurante Japonês\": [\"Restaurante Chinês\", \"Restaurante Mexicano\", \"Restaurante Árabe\", \"Restaurante Italiano\"],\n",
        "    \"Restaurante Mexicano\": [\"Restaurante Japonês\", \"Restaurante FastFood\", \"Restaurante Italiano\", \"Restaurante Brasileiro\"],\n",
        "    \"Restaurante Árabe\": [\"Restaurante Mexicano\", \"Restaurante Italiano\", \"Restaurante Thai\", \"Restaurante FastFood\"]\n",
        "}\n",
        "\n",
        "# Matriz de adjacência corrigida:\n",
        "#       RM  RF  RB  RT  RC  RI  RJ  RMx RA\n",
        "# RM    0   0   1   1   1   1   0   0   0\n",
        "# RF    1   0   1   0   0   0   0   1   1\n",
        "# RB    0   1   0   0   1   1   0   1   1\n",
        "# RT    1   0   0   0   1   0   1   0   1\n",
        "# RC    1   0   1   1   0   0   1   0   0\n",
        "# RI    1   0   1   0   0   0   1   1   1\n",
        "# RJ    0   0   0   1   1   1   0   1   1\n",
        "# RMx   0   1   1   0   0   1   1   0   0\n",
        "# RA    0   1   1   1   0   1   1   0   0\n",
        "\n",
        "# Aplicação da BFS para cada ponto do grafo\n",
        "for ponto in pontos:\n",
        "    resultado = bfs(pontos, ponto)\n",
        "    print(f\"BFS a partir de {ponto}: {resultado}\\n\")"
      ],
      "metadata": {
        "colab": {
          "base_uri": "https://localhost:8080/"
        },
        "id": "D9HAGSz_mPO9",
        "outputId": "d6166167-9101-4af7-d5b1-8da7ce656d2d"
      },
      "execution_count": 42,
      "outputs": [
        {
          "output_type": "stream",
          "name": "stdout",
          "text": [
            "BFS a partir de Restaurante Mediterraneo: ['Restaurante Mediterraneo', 'Restaurante Chinês', 'Restaurante Thai', 'Restaurante Brasileiro', 'Restaurante Italiano', 'Restaurante Japonês', 'Restaurante Mexicano', 'Restaurante Árabe', 'Restaurante FastFood']\n",
            "\n",
            "BFS a partir de Restaurante FastFood: ['Restaurante FastFood', 'Restaurante Mediterraneo', 'Restaurante Brasileiro', 'Restaurante Mexicano', 'Restaurante Árabe', 'Restaurante Chinês', 'Restaurante Thai', 'Restaurante Italiano', 'Restaurante Japonês']\n",
            "\n",
            "BFS a partir de Restaurante Brasileiro: ['Restaurante Brasileiro', 'Restaurante FastFood', 'Restaurante Italiano', 'Restaurante Chinês', 'Restaurante Árabe', 'Restaurante Mediterraneo', 'Restaurante Mexicano', 'Restaurante Japonês', 'Restaurante Thai']\n",
            "\n",
            "BFS a partir de Restaurante Thai: ['Restaurante Thai', 'Restaurante Mediterraneo', 'Restaurante Chinês', 'Restaurante Árabe', 'Restaurante Japonês', 'Restaurante Brasileiro', 'Restaurante Italiano', 'Restaurante Mexicano', 'Restaurante FastFood']\n",
            "\n",
            "BFS a partir de Restaurante Chinês: ['Restaurante Chinês', 'Restaurante Mediterraneo', 'Restaurante Thai', 'Restaurante Japonês', 'Restaurante Mexicano', 'Restaurante Brasileiro', 'Restaurante Italiano', 'Restaurante Árabe', 'Restaurante FastFood']\n",
            "\n",
            "BFS a partir de Restaurante Italiano: ['Restaurante Italiano', 'Restaurante Mediterraneo', 'Restaurante Japonês', 'Restaurante Mexicano', 'Restaurante Brasileiro', 'Restaurante Chinês', 'Restaurante Thai', 'Restaurante Árabe', 'Restaurante FastFood']\n",
            "\n",
            "BFS a partir de Restaurante Japonês: ['Restaurante Japonês', 'Restaurante Chinês', 'Restaurante Mexicano', 'Restaurante Árabe', 'Restaurante Italiano', 'Restaurante Mediterraneo', 'Restaurante Thai', 'Restaurante FastFood', 'Restaurante Brasileiro']\n",
            "\n",
            "BFS a partir de Restaurante Mexicano: ['Restaurante Mexicano', 'Restaurante Japonês', 'Restaurante FastFood', 'Restaurante Italiano', 'Restaurante Brasileiro', 'Restaurante Chinês', 'Restaurante Árabe', 'Restaurante Mediterraneo', 'Restaurante Thai']\n",
            "\n",
            "BFS a partir de Restaurante Árabe: ['Restaurante Árabe', 'Restaurante Mexicano', 'Restaurante Italiano', 'Restaurante Thai', 'Restaurante FastFood', 'Restaurante Japonês', 'Restaurante Brasileiro', 'Restaurante Mediterraneo', 'Restaurante Chinês']\n",
            "\n"
          ]
        }
      ]
    },
    {
      "cell_type": "code",
      "source": [
        "from collections import deque\n",
        "\n",
        "# Função para busca em largura (BFS)\n",
        "def bfs(grafo, inicio):\n",
        "    fila = deque([inicio])  # Fila para armazenar nós a serem visitados\n",
        "    visitado = set([inicio])  # Conjunto para evitar repetição\n",
        "    ordem = []  # Lista para armazenar a ordem de visitação\n",
        "\n",
        "    while fila:\n",
        "        atual = fila.popleft()\n",
        "        ordem.append(atual)\n",
        "\n",
        "        for v in grafo.get(atual, []):\n",
        "            if v not in visitado:\n",
        "                fila.append(v)\n",
        "                visitado.add(v)\n",
        "    return ordem\n",
        "\n",
        "pontos = {\n",
        "    \"Leona\": ['Yasuo', \"Lux\", \"Riven\"],\n",
        "    \"Lux\": ['Leona', \"Yasuo\", \"Jinx\", \"Riven\"],\n",
        "    \"Jinx\": [\"Yasuo\", \"Leona\", \"Thresh\", \"Zed\"],\n",
        "    \"Zed\": [\"Riven\", \"Yasuo\", \"Thresh\", \"Aatrox\"],\n",
        "    \"Aatrox\": [\"Yasuo\", \"Riven\", \"Zed\"],\n",
        "    \"Yasuo\": [\"Leona\", \"Lux\", \"Riven\", \"Zed\", \"Aatrox\"],\n",
        "    \"Thresh\": [\"Leona\", \"Yasuo\", \"Zed\"],\n",
        "    \"Riven\": [\"Leona\", \"Lux\", \"Yasuo\", \"Aatrox\", \"Zed\"]\n",
        "}\n",
        "\n",
        "\n",
        "# Aplicação da BFS para cada ponto do grafo\n",
        "for ponto in pontos:\n",
        "    resultado = bfs(pontos, ponto)\n",
        "    print(f\"BFS a partir de {ponto}: {resultado}\\n\")\n"
      ],
      "metadata": {
        "colab": {
          "base_uri": "https://localhost:8080/"
        },
        "id": "kJ7HJahIr9uj",
        "outputId": "40d865f6-d4e0-401f-8036-a4615213f7b2"
      },
      "execution_count": 41,
      "outputs": [
        {
          "output_type": "stream",
          "name": "stdout",
          "text": [
            "BFS a partir de Leona: ['Leona', 'Yasuo', 'Lux', 'Riven', 'Zed', 'Aatrox', 'Jinx', 'Thresh']\n",
            "\n",
            "BFS a partir de Lux: ['Lux', 'Leona', 'Yasuo', 'Jinx', 'Riven', 'Zed', 'Aatrox', 'Thresh']\n",
            "\n",
            "BFS a partir de Jinx: ['Jinx', 'Yasuo', 'Leona', 'Thresh', 'Zed', 'Lux', 'Riven', 'Aatrox']\n",
            "\n",
            "BFS a partir de Zed: ['Zed', 'Riven', 'Yasuo', 'Thresh', 'Aatrox', 'Leona', 'Lux', 'Jinx']\n",
            "\n",
            "BFS a partir de Aatrox: ['Aatrox', 'Yasuo', 'Riven', 'Zed', 'Leona', 'Lux', 'Thresh', 'Jinx']\n",
            "\n",
            "BFS a partir de Yasuo: ['Yasuo', 'Leona', 'Lux', 'Riven', 'Zed', 'Aatrox', 'Jinx', 'Thresh']\n",
            "\n",
            "BFS a partir de Thresh: ['Thresh', 'Leona', 'Yasuo', 'Zed', 'Lux', 'Riven', 'Aatrox', 'Jinx']\n",
            "\n",
            "BFS a partir de Riven: ['Riven', 'Leona', 'Lux', 'Yasuo', 'Aatrox', 'Zed', 'Jinx', 'Thresh']\n",
            "\n"
          ]
        }
      ]
    },
    {
      "cell_type": "code",
      "source": [
        "import heapq\n",
        "\n",
        "def a_star(graph, heuristic, start, goal):\n",
        "    open_set = []  # Fila de prioridade\n",
        "    heapq.heappush(open_set, (0 + heuristic[start], 0, start, []))  # (f, g, nó, caminho)\n",
        "    visited = set()\n",
        "\n",
        "    while open_set:\n",
        "        f, g, current, path = heapq.heappop(open_set)\n",
        "\n",
        "        if current in visited:\n",
        "            continue\n",
        "\n",
        "        path = path + [current]\n",
        "        visited.add(current)\n",
        "\n",
        "        if current == goal:\n",
        "            return path, g  # Retorna o caminho e a distância total\n",
        "\n",
        "        for neighbor, cost in graph[current].items():\n",
        "            if neighbor not in visited:\n",
        "                heapq.heappush(open_set, (g + cost + heuristic[neighbor], g + cost, neighbor, path))\n",
        "\n",
        "    return None, float('inf')  # Caso não haja caminho\n",
        "\n",
        "# Grafo baseado na tabela da imagem\n",
        "graph = {\n",
        "    'Foz do Iguaçu': {'Cascavel': 140, 'Toledo': 100, 'Francisco Beltrão': 160},\n",
        "    'Cascavel': {'Foz do Iguaçu': 140, 'Toledo': 50, 'Francisco Beltrão': 120, 'Guarapuava': 180},\n",
        "    'Toledo': {'Foz do Iguaçu': 100, 'Cascavel': 50, 'Francisco Beltrão': 90, 'Guarapuava': 150},\n",
        "    'Francisco Beltrão': {'Foz do Iguaçu': 160, 'Cascavel': 120, 'Toledo': 90, 'Guarapuava': 100, 'Ponta Grossa': 220},\n",
        "    'Guarapuava': {'Cascavel': 180, 'Toledo': 150, 'Francisco Beltrão': 100, 'Ponta Grossa': 100, 'Curitiba': 350},\n",
        "    'Ponta Grossa': {'Francisco Beltrão': 220, 'Guarapuava': 100, 'Curitiba': 140, 'Piraquara': 210},\n",
        "    'Curitiba': {'Guarapuava': 350, 'Ponta Grossa': 140, 'Piraquara': 40},\n",
        "    'Piraquara': {'Ponta Grossa': 210, 'Curitiba': 40}\n",
        "}\n",
        "\n",
        "# Heurísticas fornecidas na tabela\n",
        "heuristic = {\n",
        "    'Foz do Iguaçu': 670, 'Cascavel': 620, 'Toledo': 610, 'Francisco Beltrão': 550,\n",
        "    'Guarapuava': 420, 'Ponta Grossa': 210, 'Curitiba': 140, 'Piraquara': 0\n",
        "}\n",
        "\n",
        "# Encontrar o melhor caminho\n",
        "path, distance = a_star(graph, heuristic, 'Foz do Iguaçu', 'Piraquara')\n",
        "print(\"Melhor caminho:\", path)\n",
        "print(\"Distância total:\", distance)"
      ],
      "metadata": {
        "colab": {
          "base_uri": "https://localhost:8080/"
        },
        "id": "hdWU7BD_wfvo",
        "outputId": "cdb83732-0b53-4d81-c415-fd6eb64a045e"
      },
      "execution_count": 44,
      "outputs": [
        {
          "output_type": "stream",
          "name": "stdout",
          "text": [
            "Melhor caminho: ['Foz do Iguaçu', 'Toledo', 'Guarapuava', 'Ponta Grossa', 'Piraquara']\n",
            "Distância total: 560\n"
          ]
        }
      ]
    },
    {
      "cell_type": "code",
      "source": [
        "import heapq\n",
        "\n",
        "# Grafo representando as distâncias entre as cidades\n",
        "graph = {\n",
        "    \"Ribeirão Preto\": {\"São Carlos\": 75, \"Araraquara\": 70, \"Matão\": 85, \"Jaú\": 120, \"São Paulo\": 330, \"Pindamonhangaba\": 270},\n",
        "    \"São Carlos\": {\"Ribeirão Preto\": 75, \"Araraquara\": 35, \"Matão\": 40, \"Jaú\": 85, \"São Paulo\": 235, \"Pindamonhangaba\": 200},\n",
        "    \"Araraquara\": {\"Ribeirão Preto\": 70, \"São Carlos\": 35, \"Matão\": 25, \"Jaú\": 55, \"São Paulo\": 210, \"Pindamonhangaba\": 180},\n",
        "    \"Matão\": {\"Ribeirão Preto\": 85, \"São Carlos\": 40, \"Araraquara\": 25, \"Jaú\": 60, \"São Paulo\": 220, \"Pindamonhangaba\": 190},\n",
        "    \"Jaú\": {\"Ribeirão Preto\": 120, \"São Carlos\": 85, \"Araraquara\": 55, \"Matão\": 60, \"São Paulo\": 170, \"Pindamonhangaba\": 150},\n",
        "    \"São Paulo\": {\"Ribeirão Preto\": 330, \"São Carlos\": 235, \"Araraquara\": 210, \"Matão\": 220, \"Jaú\": 170, \"Pindamonhangaba\": 140},\n",
        "    \"Pindamonhangaba\": {\"Ribeirão Preto\": 270, \"São Carlos\": 200, \"Araraquara\": 180, \"Matão\": 190, \"Jaú\": 150, \"São Paulo\": 140}\n",
        "}\n",
        "\n",
        "# Heurística para cada cidade\n",
        "heuristic = {\n",
        "    \"Ribeirão Preto\": 270,\n",
        "    \"São Carlos\": 200,\n",
        "    \"Araraquara\": 180,\n",
        "    \"Matão\": 190,\n",
        "    \"Jaú\": 150,\n",
        "    \"São Paulo\": 140,\n",
        "    \"Pindamonhangaba\": 0\n",
        "}\n",
        "\n",
        "def a_star(graph, heuristic, start, goal):\n",
        "    open_set = []  # Fila de prioridade\n",
        "    heapq.heappush(open_set, (heuristic[start], 0, start, []))  # (f, g, nó, caminho)\n",
        "    visited = set()\n",
        "\n",
        "    while open_set:\n",
        "        f, g, current, path = heapq.heappop(open_set)\n",
        "\n",
        "        if current in visited:\n",
        "            continue\n",
        "\n",
        "        path = path + [current]\n",
        "        visited.add(current)\n",
        "\n",
        "        print(f\"Visitando: {current}, g: {g}, f: {f}\")  # Debug\n",
        "\n",
        "        if current == goal:\n",
        "            return path, g  # Retorna o caminho e a distância total\n",
        "\n",
        "        for neighbor, cost in graph[current].items():\n",
        "            if neighbor not in visited:\n",
        "                heapq.heappush(open_set, (g + cost + heuristic[neighbor], g + cost, neighbor, path))\n",
        "\n",
        "    return None, float('inf')  # Caso não haja caminho\n",
        "\n",
        "# Executar o algoritmo A* de Ribeirão Preto a Pindamonhangaba\n",
        "path, cost = a_star(graph, heuristic, \"Ribeirão Preto\", \"Pindamonhangaba\")\n",
        "\n",
        "print(\"\\nCaminho ótimo:\", \" -> \".join(path))\n",
        "print(\"Custo total:\", cost)"
      ],
      "metadata": {
        "colab": {
          "base_uri": "https://localhost:8080/"
        },
        "id": "F395oBO80Eb_",
        "outputId": "1c890848-415a-4dee-df6b-f8cc90d206a2"
      },
      "execution_count": 45,
      "outputs": [
        {
          "output_type": "stream",
          "name": "stdout",
          "text": [
            "Visitando: Ribeirão Preto, g: 0, f: 270\n",
            "Visitando: Araraquara, g: 70, f: 250\n",
            "Visitando: Pindamonhangaba, g: 250, f: 250\n",
            "\n",
            "Caminho ótimo: Ribeirão Preto -> Araraquara -> Pindamonhangaba\n",
            "Custo total: 250\n"
          ]
        }
      ]
    }
  ]
}